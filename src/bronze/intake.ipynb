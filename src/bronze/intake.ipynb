{
 "cells": [
  {
   "cell_type": "code",
   "execution_count": 0,
   "metadata": {
    "application/vnd.databricks.v1+cell": {
     "cellMetadata": {
      "byteLimit": 2048000,
      "rowLimit": 10000
     },
     "inputWidgets": {},
     "nuid": "3ad4bc75-aecc-4856-9db1-55988dc7af8f",
     "showTitle": true,
     "tableResultSettingsMap": {},
     "title": "setup_variable"
    }
   },
   "outputs": [],
   "source": [
    "pathRaw = \"/Volumes/raw/astronauts/list_astronauts\"\n",
    "catalog = \"bronze\"\n",
    "schema = \"astronauts\"\n",
    "tableName = dbutils.widgets.get(\"tableName\")"
   ]
  },
  {
   "cell_type": "code",
   "execution_count": 0,
   "metadata": {
    "application/vnd.databricks.v1+cell": {
     "cellMetadata": {
      "byteLimit": 2048000,
      "rowLimit": 10000
     },
     "inputWidgets": {},
     "nuid": "8eac2ac7-a086-48c5-8756-0a02e4961429",
     "showTitle": true,
     "tableResultSettingsMap": {},
     "title": "load_table"
    }
   },
   "outputs": [],
   "source": [
    "df_full = (spark.read.\n",
    "            format(\"csv\").\n",
    "            load(f\"{pathRaw}\", \n",
    "                 header=True, \n",
    "                 inferSchema=True\n",
    "            )\n",
    "        )"
   ]
  },
  {
   "cell_type": "code",
   "execution_count": 0,
   "metadata": {
    "application/vnd.databricks.v1+cell": {
     "cellMetadata": {},
     "inputWidgets": {},
     "nuid": "cbe41645-3929-4596-a22e-0dd998c5aae6",
     "showTitle": true,
     "tableResultSettingsMap": {},
     "title": "verify_table_exists"
    }
   },
   "outputs": [],
   "source": [
    "def table_exists(catalog, schema, table):\n",
    "    count = (spark.sql(f\"SHOW TABLES FROM {catalog}.{schema} WHERE tableName = '{table}')\n",
    "                .count()\n",
    "            )\n",
    "    return count > 0"
   ]
  },
  {
   "cell_type": "code",
   "execution_count": 0,
   "metadata": {
    "application/vnd.databricks.v1+cell": {
     "cellMetadata": {
      "byteLimit": 2048000,
      "rowLimit": 10000
     },
     "inputWidgets": {},
     "nuid": "4385d3a8-884c-468f-b23a-c7dcf0d007ec",
     "showTitle": true,
     "tableResultSettingsMap": {},
     "title": "save_table_bronze"
    }
   },
   "outputs": [],
   "source": [
    "import delta\n",
    "\n",
    "if not table_exists(f\"{catalog}.{schema}.{tableName}\"):\n",
    "    \n",
    "    print(\"Table is creating now...\")\n",
    "    (df_full\n",
    "        .coalesce(1).\n",
    "        write.\n",
    "        format(\"delta\").\n",
    "        mode(\"overwrite\").\n",
    "        saveAsTable(f\"{catalog}.{schema}.{tableName}\")\n",
    "    )\n",
    "else:\n",
    "    deltaTable = DeltaTable.forName(f\"{catalog}.{schema}.{tableName}\")\n",
    "    deltaTable.alias(\"t\").merge(\n",
    "        df_full.alias(\"s\"),\n",
    "        f\"t.id = s.id\"\n",
    "    ).whenNotMatchedInsertAll().execute()"
   ]
  }
 ],
 "metadata": {
  "application/vnd.databricks.v1+notebook": {
   "computePreferences": null,
   "dashboards": [],
   "environmentMetadata": {
    "base_environment": "",
    "environment_version": "2"
   },
   "inputWidgetPreferences": null,
   "language": "python",
   "notebookMetadata": {
    "pythonIndentUnit": 4
   },
   "notebookName": "intake",
   "widgets": {}
  },
  "language_info": {
   "name": "python"
  }
 },
 "nbformat": 4,
 "nbformat_minor": 0
}
